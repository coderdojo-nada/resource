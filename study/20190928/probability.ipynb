{
 "cells": [
  {
   "cell_type": "markdown",
   "metadata": {},
   "source": [
    "### 1の目が出る確率"
   ]
  },
  {
   "cell_type": "code",
   "execution_count": 2,
   "metadata": {},
   "outputs": [
    {
     "name": "stdout",
     "output_type": "stream",
     "text": [
      "0.166688\n"
     ]
    }
   ],
   "source": [
    "import random\n",
    "\n",
    "# サイコロを振る\n",
    "cnt= 0  # 1が出た回数\n",
    "for i in range(1000000): \n",
    "    dice = random.randint(1, 6) \n",
    "    if dice == 1:\n",
    "        cnt += 1\n",
    "\n",
    "# 確率を求める 1/6になるか？\n",
    "p = cnt / 1000000\n",
    "print(p)"
   ]
  },
  {
   "cell_type": "markdown",
   "metadata": {},
   "source": [
    "### すべての事象が起こる確率"
   ]
  },
  {
   "cell_type": "code",
   "execution_count": 14,
   "metadata": {},
   "outputs": [
    {
     "name": "stdout",
     "output_type": "stream",
     "text": [
      "1 0.1753\n",
      "2 0.1637\n",
      "3 0.1661\n",
      "4 0.168\n",
      "5 0.1636\n",
      "6 0.1633\n",
      "------------------\n",
      "1.0\n",
      "[0, 0.1753, 0.1637, 0.1661, 0.168, 0.1636, 0.1633]\n"
     ]
    }
   ],
   "source": [
    "import random\n",
    "\n",
    "# サイコロを振る\n",
    "hist = [0] * 7\n",
    "for i in range(10000):\n",
    "    dice = random.randint(1, 6)\n",
    "    hist[dice] += 1\n",
    "    \n",
    "# 確率を求める\n",
    "p = [0] * 7\n",
    "for i in range(1, 7):\n",
    "    p[i] = hist[i] / 10000\n",
    "    print(i, p[i])\n",
    "\n",
    "# 確率を合計\n",
    "print('------------------\\n' + str(sum(p)))\n",
    "print(p)"
   ]
  },
  {
   "cell_type": "markdown",
   "metadata": {},
   "source": [
    "### 積の法則と和の法則"
   ]
  },
  {
   "cell_type": "code",
   "execution_count": 15,
   "metadata": {},
   "outputs": [
    {
     "data": {
      "text/plain": [
       "Fraction(2, 7)"
      ]
     },
     "execution_count": 15,
     "metadata": {},
     "output_type": "execute_result"
    }
   ],
   "source": [
    "# 3番目にくじを引く人の確率\n",
    "from fractions import Fraction\n",
    "x = Fraction(2, 7) * Fraction(5, 6) * Fraction(1, 5)  #（A当たり→Bはずれ→C当たり）\n",
    "y = Fraction(5, 7) * Fraction(2, 6) * Fraction(1, 5)  #（Aはずれ→B当たり→C当たり）\n",
    "z = Fraction(5, 7) * Fraction(4, 6) * Fraction(2, 5)  #（Aはずれ→Bはずれ→C当たり）\n",
    "p = x + y + z  # X、Y、Zのいずれかが起こる確率\n",
    "p"
   ]
  },
  {
   "cell_type": "markdown",
   "metadata": {},
   "source": [
    "### 円周率を求める"
   ]
  },
  {
   "cell_type": "code",
   "execution_count": 1,
   "metadata": {},
   "outputs": [
    {
     "data": {
      "text/plain": [
       "<Figure size 640x480 with 1 Axes>"
      ]
     },
     "metadata": {},
     "output_type": "display_data"
    },
    {
     "name": "stdout",
     "output_type": "stream",
     "text": [
      "3.1586666666666665\n"
     ]
    }
   ],
   "source": [
    "# %matplotlib inline \n",
    "import matplotlib.pyplot as plt\n",
    "import random\n",
    "import math\n",
    "\n",
    "# 点を描画\n",
    "cnt = 0 \n",
    "for i in range(6000):\n",
    "    x = random.randint(1, 100)\n",
    "    y = random.randint(1, 100)\n",
    "    d = math.sqrt((x-50)**2 + (y-50)**2) #中心と点との距離\n",
    "    if (d <= 50 ):\n",
    "        cnt += 1   # 円内の点を数える\n",
    "        plt.scatter(x, y, marker='.', c='r')  # 赤色の点を描画\n",
    "    else:\n",
    "        plt.scatter(x, y, marker='.', c='g')  # 緑色の点を描画\n",
    "plt.axis('equal')\n",
    "plt.show()\n",
    "\n",
    "# 円周率を求める\n",
    "p = cnt / 6000  # 点が円の中にある確率\n",
    "pi = p * 4      # 円周率\n",
    "print(pi)\n"
   ]
  },
  {
   "cell_type": "code",
   "execution_count": 8,
   "metadata": {},
   "outputs": [],
   "source": [
    "### "
   ]
  },
  {
   "cell_type": "code",
   "execution_count": 18,
   "metadata": {},
   "outputs": [
    {
     "name": "stdout",
     "output_type": "stream",
     "text": [
      "j=0 j=1 PI=4.0\n",
      "j=10000 j=10001 PI=3.1256874312568743\n",
      "j=20000 j=20001 PI=3.1232438378081095\n",
      "j=30000 j=30001 PI=3.1466951101629945\n",
      "j=40000 j=40001 PI=3.135721606959826\n",
      "j=50000 j=50001 PI=3.140737185256295\n",
      "j=60000 j=60001 PI=3.1321477975367076\n",
      "j=70000 j=70001 PI=3.134526649619291\n",
      "j=80000 j=80001 PI=3.1321108486143925\n",
      "j=90000 j=90001 PI=3.1379206897701137\n",
      "j=100000 j=100001 PI=3.142208577914221\n",
      "j=110000 j=110001 PI=3.1312806247215934\n",
      "j=120000 j=120001 PI=3.135973866884443\n",
      "j=130000 j=130001 PI=3.1300682302443827\n",
      "j=140000 j=140001 PI=3.140148998935722\n",
      "j=150000 j=150001 PI=3.136299091339391\n",
      "j=160000 j=160001 PI=3.1369553940287873\n",
      "j=170000 j=170001 PI=3.138616831665696\n",
      "j=180000 j=180001 PI=3.136871461825212\n",
      "j=190000 j=190001 PI=3.1311624675659604\n"
     ]
    }
   ],
   "source": [
    "import matplotlib.pyplot as plt\n",
    "import random\n",
    "import math\n",
    "import time\n",
    "\n",
    "# 点を描画\n",
    "cnt = 0 \n",
    "for j in range(1, 200000, 10000):\n",
    "    for i in range(j):\n",
    "        x = random.randint(1, 100)\n",
    "        y = random.randint(1, 100)\n",
    "        d = math.sqrt((x-50)**2 + (y-50)**2) #中心と点との距離\n",
    "        if (d <= 50 ):\n",
    "            cnt += 1   # 円内の点を数える\n",
    "    # 円周率を求める\n",
    "    p = cnt / j  # 点が円の中にある確率\n",
    "    pi = p * 4      # 円周率\n",
    "    print('j={} j={} PI={}'.format(i, j, pi))\n",
    "    cnt = 0\n",
    "    time.sleep(1)\n"
   ]
  },
  {
   "cell_type": "code",
   "execution_count": null,
   "metadata": {},
   "outputs": [],
   "source": []
  }
 ],
 "metadata": {
  "kernelspec": {
   "display_name": "Python 3",
   "language": "python",
   "name": "python3"
  },
  "language_info": {
   "codemirror_mode": {
    "name": "ipython",
    "version": 3
   },
   "file_extension": ".py",
   "mimetype": "text/x-python",
   "name": "python",
   "nbconvert_exporter": "python",
   "pygments_lexer": "ipython3",
   "version": "3.7.3"
  }
 },
 "nbformat": 4,
 "nbformat_minor": 2
}
